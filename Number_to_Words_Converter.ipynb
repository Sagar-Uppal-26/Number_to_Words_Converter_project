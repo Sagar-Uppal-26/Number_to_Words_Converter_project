{
 "cells": [
  {
   "cell_type": "code",
   "execution_count": null,
   "id": "2637ca21-597d-45ea-9bf6-3e32aa32ec10",
   "metadata": {},
   "outputs": [],
   "source": [
    "word=\"\""
   ]
  },
  {
   "cell_type": "code",
   "execution_count": null,
   "id": "ce558fd8-b9d3-4568-883f-651a24dabbf0",
   "metadata": {},
   "outputs": [],
   "source": [
    "def ten_lakhs(x):\n",
    "    global word\n",
    "    z=x%1000000\n",
    "    y=int(x/100000)\n",
    "    if y!=0:\n",
    "        tens(y)\n",
    "        if y==1:\n",
    "            word=word+\" lakh\"\n",
    "        else:\n",
    "            word=word+\" lakhs\"\n",
    "    lakhs(z)"
   ]
  },
  {
   "cell_type": "code",
   "execution_count": null,
   "id": "a152f79e-ba6a-4424-920a-2b4f506ecf6d",
   "metadata": {},
   "outputs": [],
   "source": [
    "def lakhs(x):\n",
    "    global word\n",
    "    z=x%100000\n",
    "    y=int(x/100000)\n",
    "    if word==\"\":\n",
    "        unit(y)\n",
    "        if y==1:\n",
    "            word=word+\" lakh\"\n",
    "        else:\n",
    "            word=word+\" lakhs\"\n",
    "    ten_thousands(z)"
   ]
  },
  {
   "cell_type": "code",
   "execution_count": null,
   "id": "da26d60d-0a04-4ddd-88d2-e0f976153f44",
   "metadata": {},
   "outputs": [],
   "source": [
    "def ten_thousands(x):\n",
    "    global word\n",
    "    z=x%10000\n",
    "    y=int(x/1000)\n",
    "    if y!=0:\n",
    "        tens(y)\n",
    "        word=word+\" thousand\"\n",
    "    thousands(z)"
   ]
  },
  {
   "cell_type": "code",
   "execution_count": null,
   "id": "8dc547d6-8025-4422-9773-13d94f0d9178",
   "metadata": {},
   "outputs": [],
   "source": [
    "def thousands(x):\n",
    "    global word\n",
    "    z=x%1000\n",
    "    y=int(x/1000)\n",
    "    if word==\"\":\n",
    "        unit(y)\n",
    "        word=word+\" thousand\"\n",
    "    hundreds(z)"
   ]
  },
  {
   "cell_type": "code",
   "execution_count": null,
   "id": "552c7108-5662-46d5-aff4-b5b671dae78e",
   "metadata": {},
   "outputs": [],
   "source": [
    "def hundreds(x):\n",
    "    global word\n",
    "    z=x%100\n",
    "    y=int(x/100)\n",
    "    if y!=0:\n",
    "        unit(y)\n",
    "        word=word+\" hundred\"\n",
    "    tens(z)"
   ]
  },
  {
   "cell_type": "code",
   "execution_count": null,
   "id": "d33773ed-5b8f-4500-8d8a-704fcadd8095",
   "metadata": {},
   "outputs": [],
   "source": [
    "def tens(x):\n",
    "    global word\n",
    "    z=x%10\n",
    "    if(x==11):\n",
    "        word=word+\" eleven\"\n",
    "    elif(x==12):\n",
    "        word=word+\" twelve\"\n",
    "    elif(x==13):\n",
    "        word=word+\" thirteen\"\n",
    "    elif(x==14):\n",
    "        word=word+\" forteen\"\n",
    "    elif(x==15):\n",
    "        word=word+\" fifteen\"\n",
    "    elif(x==16):\n",
    "        word=word+\" sixteen\"\n",
    "    elif(x==17):\n",
    "        word=word+\" seventeen\"\n",
    "    elif(x==18):\n",
    "        word=word+\" eighteen\"\n",
    "    elif(x==19):\n",
    "        word=word+\" nineteen\"\n",
    "    else:\n",
    "        y=int(x/10)\n",
    "        x=y*10\n",
    "        if(x==10):\n",
    "            word=word+\" ten\"\n",
    "        elif(x==20):\n",
    "            word=word+\" twenty\"\n",
    "        elif(x==30):\n",
    "            word=word+\" thirty\"\n",
    "        elif(x==40):\n",
    "            word=word+\" forty\"\n",
    "        elif(x==50):\n",
    "            word=word+\" fifty\"\n",
    "        elif(x==60):\n",
    "            word=word+\" sixty\"\n",
    "        elif(x==70):\n",
    "            word=word+\" seventy\"\n",
    "        elif(x==80):\n",
    "            word=word+\" eighty\"\n",
    "        elif(x==90):\n",
    "            word=word+\" ninety\"\n",
    "        if z!=0:\n",
    "            unit(z)"
   ]
  },
  {
   "cell_type": "code",
   "execution_count": null,
   "id": "4b1cf741-375c-42b9-aa09-01e596d5ee8e",
   "metadata": {},
   "outputs": [],
   "source": [
    "def unit(x):\n",
    "    global word\n",
    "    if(x==0):\n",
    "        word=word+\" zero\"\n",
    "    elif(x==1):\n",
    "        word=word+\" one\"\n",
    "    elif(x==2):\n",
    "        word=word+\" two\"\n",
    "    elif(x==3):\n",
    "        word=word+\" three\"\n",
    "    elif(x==4):\n",
    "        word=word+\" four\"\n",
    "    elif(x==5):\n",
    "        word=word+\" five\"\n",
    "    elif(x==6):\n",
    "        word=word+\" six\"\n",
    "    elif(x==7):\n",
    "        word=word+\" seven\"\n",
    "    elif(x==8):\n",
    "        word=word+\" eight\"\n",
    "    elif(x==9):\n",
    "        word=word+\" nine\""
   ]
  },
  {
   "cell_type": "code",
   "execution_count": null,
   "id": "059a32ed-a8b5-4ed9-8092-d32badc55e58",
   "metadata": {},
   "outputs": [],
   "source": [
    "def convert(num):\n",
    "    global word\n",
    "    word=\"\"\n",
    "    length=len(str(num))\n",
    "    if length==1:\n",
    "        unit(num)\n",
    "    elif length==2:\n",
    "        tens(num)\n",
    "    elif length==3:\n",
    "        hundreds(num)\n",
    "    elif length==4:\n",
    "        thousands(num)\n",
    "    elif length==5:\n",
    "        ten_thousands(num)\n",
    "    elif length==6:\n",
    "        lakhs(num)\n",
    "    elif length==7:\n",
    "        ten_lakhs(num)\n",
    "    return word"
   ]
  }
 ],
 "metadata": {
  "kernelspec": {
   "display_name": "Python 3 (ipykernel)",
   "language": "python",
   "name": "python3"
  },
  "language_info": {
   "codemirror_mode": {
    "name": "ipython",
    "version": 3
   },
   "file_extension": ".py",
   "mimetype": "text/x-python",
   "name": "python",
   "nbconvert_exporter": "python",
   "pygments_lexer": "ipython3",
   "version": "3.12.9"
  }
 },
 "nbformat": 4,
 "nbformat_minor": 5
}
